{
  "nbformat": 4,
  "nbformat_minor": 0,
  "metadata": {
    "colab": {
      "provenance": []
    },
    "kernelspec": {
      "name": "python3",
      "display_name": "Python 3"
    },
    "language_info": {
      "name": "python"
    }
  },
  "cells": [
    {
      "cell_type": "code",
      "source": [
        "from google.colab import drive\n",
        "drive.mount('/content/gdrive')"
      ],
      "metadata": {
        "colab": {
          "base_uri": "https://localhost:8080/"
        },
        "id": "dmVbMB3NEo4E",
        "outputId": "cc2e1404-5203-4e2c-e0b7-b03075e7026e"
      },
      "execution_count": 49,
      "outputs": [
        {
          "output_type": "stream",
          "name": "stdout",
          "text": [
            "Drive already mounted at /content/gdrive; to attempt to forcibly remount, call drive.mount(\"/content/gdrive\", force_remount=True).\n"
          ]
        }
      ]
    },
    {
      "cell_type": "markdown",
      "source": [
        "# **Linear Regression**"
      ],
      "metadata": {
        "id": "xrYsoV5oaO4L"
      }
    },
    {
      "cell_type": "markdown",
      "source": [
        "Dataset Link: https://archive.ics.uci.edu/ml/datasets/Student+Performance"
      ],
      "metadata": {
        "id": "ZoPq6FwYaIV4"
      }
    },
    {
      "cell_type": "code",
      "source": [
        "import pandas as pd\n",
        "import numpy as np\n",
        "import sklearn\n",
        "from sklearn import linear_model\n",
        "from sklearn.utils import shuffle"
      ],
      "metadata": {
        "id": "wXpKcOjsMlgG"
      },
      "execution_count": 50,
      "outputs": []
    },
    {
      "cell_type": "code",
      "source": [
        "data = pd.read_csv(\"gdrive/My Drive/Machine_Learning/student-mat.csv\", sep= ';')\n",
        "data"
      ],
      "metadata": {
        "colab": {
          "base_uri": "https://localhost:8080/",
          "height": 423
        },
        "id": "hD8GdmnjEzFi",
        "outputId": "b85422b3-ef03-4384-e956-b2b30c1f9020"
      },
      "execution_count": 51,
      "outputs": [
        {
          "output_type": "execute_result",
          "data": {
            "text/plain": [
              "    school sex  age address famsize Pstatus  Medu  Fedu      Mjob      Fjob  \\\n",
              "0       GP   F   18       U     GT3       A     4     4   at_home   teacher   \n",
              "1       GP   F   17       U     GT3       T     1     1   at_home     other   \n",
              "2       GP   F   15       U     LE3       T     1     1   at_home     other   \n",
              "3       GP   F   15       U     GT3       T     4     2    health  services   \n",
              "4       GP   F   16       U     GT3       T     3     3     other     other   \n",
              "..     ...  ..  ...     ...     ...     ...   ...   ...       ...       ...   \n",
              "390     MS   M   20       U     LE3       A     2     2  services  services   \n",
              "391     MS   M   17       U     LE3       T     3     1  services  services   \n",
              "392     MS   M   21       R     GT3       T     1     1     other     other   \n",
              "393     MS   M   18       R     LE3       T     3     2  services     other   \n",
              "394     MS   M   19       U     LE3       T     1     1     other   at_home   \n",
              "\n",
              "     ... famrel freetime  goout  Dalc  Walc health absences  G1  G2  G3  \n",
              "0    ...      4        3      4     1     1      3        6   5   6   6  \n",
              "1    ...      5        3      3     1     1      3        4   5   5   6  \n",
              "2    ...      4        3      2     2     3      3       10   7   8  10  \n",
              "3    ...      3        2      2     1     1      5        2  15  14  15  \n",
              "4    ...      4        3      2     1     2      5        4   6  10  10  \n",
              "..   ...    ...      ...    ...   ...   ...    ...      ...  ..  ..  ..  \n",
              "390  ...      5        5      4     4     5      4       11   9   9   9  \n",
              "391  ...      2        4      5     3     4      2        3  14  16  16  \n",
              "392  ...      5        5      3     3     3      3        3  10   8   7  \n",
              "393  ...      4        4      1     3     4      5        0  11  12  10  \n",
              "394  ...      3        2      3     3     3      5        5   8   9   9  \n",
              "\n",
              "[395 rows x 33 columns]"
            ],
            "text/html": [
              "\n",
              "  <div id=\"df-d177439e-a8fd-4103-878e-8295a9cd40e4\">\n",
              "    <div class=\"colab-df-container\">\n",
              "      <div>\n",
              "<style scoped>\n",
              "    .dataframe tbody tr th:only-of-type {\n",
              "        vertical-align: middle;\n",
              "    }\n",
              "\n",
              "    .dataframe tbody tr th {\n",
              "        vertical-align: top;\n",
              "    }\n",
              "\n",
              "    .dataframe thead th {\n",
              "        text-align: right;\n",
              "    }\n",
              "</style>\n",
              "<table border=\"1\" class=\"dataframe\">\n",
              "  <thead>\n",
              "    <tr style=\"text-align: right;\">\n",
              "      <th></th>\n",
              "      <th>school</th>\n",
              "      <th>sex</th>\n",
              "      <th>age</th>\n",
              "      <th>address</th>\n",
              "      <th>famsize</th>\n",
              "      <th>Pstatus</th>\n",
              "      <th>Medu</th>\n",
              "      <th>Fedu</th>\n",
              "      <th>Mjob</th>\n",
              "      <th>Fjob</th>\n",
              "      <th>...</th>\n",
              "      <th>famrel</th>\n",
              "      <th>freetime</th>\n",
              "      <th>goout</th>\n",
              "      <th>Dalc</th>\n",
              "      <th>Walc</th>\n",
              "      <th>health</th>\n",
              "      <th>absences</th>\n",
              "      <th>G1</th>\n",
              "      <th>G2</th>\n",
              "      <th>G3</th>\n",
              "    </tr>\n",
              "  </thead>\n",
              "  <tbody>\n",
              "    <tr>\n",
              "      <th>0</th>\n",
              "      <td>GP</td>\n",
              "      <td>F</td>\n",
              "      <td>18</td>\n",
              "      <td>U</td>\n",
              "      <td>GT3</td>\n",
              "      <td>A</td>\n",
              "      <td>4</td>\n",
              "      <td>4</td>\n",
              "      <td>at_home</td>\n",
              "      <td>teacher</td>\n",
              "      <td>...</td>\n",
              "      <td>4</td>\n",
              "      <td>3</td>\n",
              "      <td>4</td>\n",
              "      <td>1</td>\n",
              "      <td>1</td>\n",
              "      <td>3</td>\n",
              "      <td>6</td>\n",
              "      <td>5</td>\n",
              "      <td>6</td>\n",
              "      <td>6</td>\n",
              "    </tr>\n",
              "    <tr>\n",
              "      <th>1</th>\n",
              "      <td>GP</td>\n",
              "      <td>F</td>\n",
              "      <td>17</td>\n",
              "      <td>U</td>\n",
              "      <td>GT3</td>\n",
              "      <td>T</td>\n",
              "      <td>1</td>\n",
              "      <td>1</td>\n",
              "      <td>at_home</td>\n",
              "      <td>other</td>\n",
              "      <td>...</td>\n",
              "      <td>5</td>\n",
              "      <td>3</td>\n",
              "      <td>3</td>\n",
              "      <td>1</td>\n",
              "      <td>1</td>\n",
              "      <td>3</td>\n",
              "      <td>4</td>\n",
              "      <td>5</td>\n",
              "      <td>5</td>\n",
              "      <td>6</td>\n",
              "    </tr>\n",
              "    <tr>\n",
              "      <th>2</th>\n",
              "      <td>GP</td>\n",
              "      <td>F</td>\n",
              "      <td>15</td>\n",
              "      <td>U</td>\n",
              "      <td>LE3</td>\n",
              "      <td>T</td>\n",
              "      <td>1</td>\n",
              "      <td>1</td>\n",
              "      <td>at_home</td>\n",
              "      <td>other</td>\n",
              "      <td>...</td>\n",
              "      <td>4</td>\n",
              "      <td>3</td>\n",
              "      <td>2</td>\n",
              "      <td>2</td>\n",
              "      <td>3</td>\n",
              "      <td>3</td>\n",
              "      <td>10</td>\n",
              "      <td>7</td>\n",
              "      <td>8</td>\n",
              "      <td>10</td>\n",
              "    </tr>\n",
              "    <tr>\n",
              "      <th>3</th>\n",
              "      <td>GP</td>\n",
              "      <td>F</td>\n",
              "      <td>15</td>\n",
              "      <td>U</td>\n",
              "      <td>GT3</td>\n",
              "      <td>T</td>\n",
              "      <td>4</td>\n",
              "      <td>2</td>\n",
              "      <td>health</td>\n",
              "      <td>services</td>\n",
              "      <td>...</td>\n",
              "      <td>3</td>\n",
              "      <td>2</td>\n",
              "      <td>2</td>\n",
              "      <td>1</td>\n",
              "      <td>1</td>\n",
              "      <td>5</td>\n",
              "      <td>2</td>\n",
              "      <td>15</td>\n",
              "      <td>14</td>\n",
              "      <td>15</td>\n",
              "    </tr>\n",
              "    <tr>\n",
              "      <th>4</th>\n",
              "      <td>GP</td>\n",
              "      <td>F</td>\n",
              "      <td>16</td>\n",
              "      <td>U</td>\n",
              "      <td>GT3</td>\n",
              "      <td>T</td>\n",
              "      <td>3</td>\n",
              "      <td>3</td>\n",
              "      <td>other</td>\n",
              "      <td>other</td>\n",
              "      <td>...</td>\n",
              "      <td>4</td>\n",
              "      <td>3</td>\n",
              "      <td>2</td>\n",
              "      <td>1</td>\n",
              "      <td>2</td>\n",
              "      <td>5</td>\n",
              "      <td>4</td>\n",
              "      <td>6</td>\n",
              "      <td>10</td>\n",
              "      <td>10</td>\n",
              "    </tr>\n",
              "    <tr>\n",
              "      <th>...</th>\n",
              "      <td>...</td>\n",
              "      <td>...</td>\n",
              "      <td>...</td>\n",
              "      <td>...</td>\n",
              "      <td>...</td>\n",
              "      <td>...</td>\n",
              "      <td>...</td>\n",
              "      <td>...</td>\n",
              "      <td>...</td>\n",
              "      <td>...</td>\n",
              "      <td>...</td>\n",
              "      <td>...</td>\n",
              "      <td>...</td>\n",
              "      <td>...</td>\n",
              "      <td>...</td>\n",
              "      <td>...</td>\n",
              "      <td>...</td>\n",
              "      <td>...</td>\n",
              "      <td>...</td>\n",
              "      <td>...</td>\n",
              "      <td>...</td>\n",
              "    </tr>\n",
              "    <tr>\n",
              "      <th>390</th>\n",
              "      <td>MS</td>\n",
              "      <td>M</td>\n",
              "      <td>20</td>\n",
              "      <td>U</td>\n",
              "      <td>LE3</td>\n",
              "      <td>A</td>\n",
              "      <td>2</td>\n",
              "      <td>2</td>\n",
              "      <td>services</td>\n",
              "      <td>services</td>\n",
              "      <td>...</td>\n",
              "      <td>5</td>\n",
              "      <td>5</td>\n",
              "      <td>4</td>\n",
              "      <td>4</td>\n",
              "      <td>5</td>\n",
              "      <td>4</td>\n",
              "      <td>11</td>\n",
              "      <td>9</td>\n",
              "      <td>9</td>\n",
              "      <td>9</td>\n",
              "    </tr>\n",
              "    <tr>\n",
              "      <th>391</th>\n",
              "      <td>MS</td>\n",
              "      <td>M</td>\n",
              "      <td>17</td>\n",
              "      <td>U</td>\n",
              "      <td>LE3</td>\n",
              "      <td>T</td>\n",
              "      <td>3</td>\n",
              "      <td>1</td>\n",
              "      <td>services</td>\n",
              "      <td>services</td>\n",
              "      <td>...</td>\n",
              "      <td>2</td>\n",
              "      <td>4</td>\n",
              "      <td>5</td>\n",
              "      <td>3</td>\n",
              "      <td>4</td>\n",
              "      <td>2</td>\n",
              "      <td>3</td>\n",
              "      <td>14</td>\n",
              "      <td>16</td>\n",
              "      <td>16</td>\n",
              "    </tr>\n",
              "    <tr>\n",
              "      <th>392</th>\n",
              "      <td>MS</td>\n",
              "      <td>M</td>\n",
              "      <td>21</td>\n",
              "      <td>R</td>\n",
              "      <td>GT3</td>\n",
              "      <td>T</td>\n",
              "      <td>1</td>\n",
              "      <td>1</td>\n",
              "      <td>other</td>\n",
              "      <td>other</td>\n",
              "      <td>...</td>\n",
              "      <td>5</td>\n",
              "      <td>5</td>\n",
              "      <td>3</td>\n",
              "      <td>3</td>\n",
              "      <td>3</td>\n",
              "      <td>3</td>\n",
              "      <td>3</td>\n",
              "      <td>10</td>\n",
              "      <td>8</td>\n",
              "      <td>7</td>\n",
              "    </tr>\n",
              "    <tr>\n",
              "      <th>393</th>\n",
              "      <td>MS</td>\n",
              "      <td>M</td>\n",
              "      <td>18</td>\n",
              "      <td>R</td>\n",
              "      <td>LE3</td>\n",
              "      <td>T</td>\n",
              "      <td>3</td>\n",
              "      <td>2</td>\n",
              "      <td>services</td>\n",
              "      <td>other</td>\n",
              "      <td>...</td>\n",
              "      <td>4</td>\n",
              "      <td>4</td>\n",
              "      <td>1</td>\n",
              "      <td>3</td>\n",
              "      <td>4</td>\n",
              "      <td>5</td>\n",
              "      <td>0</td>\n",
              "      <td>11</td>\n",
              "      <td>12</td>\n",
              "      <td>10</td>\n",
              "    </tr>\n",
              "    <tr>\n",
              "      <th>394</th>\n",
              "      <td>MS</td>\n",
              "      <td>M</td>\n",
              "      <td>19</td>\n",
              "      <td>U</td>\n",
              "      <td>LE3</td>\n",
              "      <td>T</td>\n",
              "      <td>1</td>\n",
              "      <td>1</td>\n",
              "      <td>other</td>\n",
              "      <td>at_home</td>\n",
              "      <td>...</td>\n",
              "      <td>3</td>\n",
              "      <td>2</td>\n",
              "      <td>3</td>\n",
              "      <td>3</td>\n",
              "      <td>3</td>\n",
              "      <td>5</td>\n",
              "      <td>5</td>\n",
              "      <td>8</td>\n",
              "      <td>9</td>\n",
              "      <td>9</td>\n",
              "    </tr>\n",
              "  </tbody>\n",
              "</table>\n",
              "<p>395 rows × 33 columns</p>\n",
              "</div>\n",
              "      <button class=\"colab-df-convert\" onclick=\"convertToInteractive('df-d177439e-a8fd-4103-878e-8295a9cd40e4')\"\n",
              "              title=\"Convert this dataframe to an interactive table.\"\n",
              "              style=\"display:none;\">\n",
              "        \n",
              "  <svg xmlns=\"http://www.w3.org/2000/svg\" height=\"24px\"viewBox=\"0 0 24 24\"\n",
              "       width=\"24px\">\n",
              "    <path d=\"M0 0h24v24H0V0z\" fill=\"none\"/>\n",
              "    <path d=\"M18.56 5.44l.94 2.06.94-2.06 2.06-.94-2.06-.94-.94-2.06-.94 2.06-2.06.94zm-11 1L8.5 8.5l.94-2.06 2.06-.94-2.06-.94L8.5 2.5l-.94 2.06-2.06.94zm10 10l.94 2.06.94-2.06 2.06-.94-2.06-.94-.94-2.06-.94 2.06-2.06.94z\"/><path d=\"M17.41 7.96l-1.37-1.37c-.4-.4-.92-.59-1.43-.59-.52 0-1.04.2-1.43.59L10.3 9.45l-7.72 7.72c-.78.78-.78 2.05 0 2.83L4 21.41c.39.39.9.59 1.41.59.51 0 1.02-.2 1.41-.59l7.78-7.78 2.81-2.81c.8-.78.8-2.07 0-2.86zM5.41 20L4 18.59l7.72-7.72 1.47 1.35L5.41 20z\"/>\n",
              "  </svg>\n",
              "      </button>\n",
              "      \n",
              "  <style>\n",
              "    .colab-df-container {\n",
              "      display:flex;\n",
              "      flex-wrap:wrap;\n",
              "      gap: 12px;\n",
              "    }\n",
              "\n",
              "    .colab-df-convert {\n",
              "      background-color: #E8F0FE;\n",
              "      border: none;\n",
              "      border-radius: 50%;\n",
              "      cursor: pointer;\n",
              "      display: none;\n",
              "      fill: #1967D2;\n",
              "      height: 32px;\n",
              "      padding: 0 0 0 0;\n",
              "      width: 32px;\n",
              "    }\n",
              "\n",
              "    .colab-df-convert:hover {\n",
              "      background-color: #E2EBFA;\n",
              "      box-shadow: 0px 1px 2px rgba(60, 64, 67, 0.3), 0px 1px 3px 1px rgba(60, 64, 67, 0.15);\n",
              "      fill: #174EA6;\n",
              "    }\n",
              "\n",
              "    [theme=dark] .colab-df-convert {\n",
              "      background-color: #3B4455;\n",
              "      fill: #D2E3FC;\n",
              "    }\n",
              "\n",
              "    [theme=dark] .colab-df-convert:hover {\n",
              "      background-color: #434B5C;\n",
              "      box-shadow: 0px 1px 3px 1px rgba(0, 0, 0, 0.15);\n",
              "      filter: drop-shadow(0px 1px 2px rgba(0, 0, 0, 0.3));\n",
              "      fill: #FFFFFF;\n",
              "    }\n",
              "  </style>\n",
              "\n",
              "      <script>\n",
              "        const buttonEl =\n",
              "          document.querySelector('#df-d177439e-a8fd-4103-878e-8295a9cd40e4 button.colab-df-convert');\n",
              "        buttonEl.style.display =\n",
              "          google.colab.kernel.accessAllowed ? 'block' : 'none';\n",
              "\n",
              "        async function convertToInteractive(key) {\n",
              "          const element = document.querySelector('#df-d177439e-a8fd-4103-878e-8295a9cd40e4');\n",
              "          const dataTable =\n",
              "            await google.colab.kernel.invokeFunction('convertToInteractive',\n",
              "                                                     [key], {});\n",
              "          if (!dataTable) return;\n",
              "\n",
              "          const docLinkHtml = 'Like what you see? Visit the ' +\n",
              "            '<a target=\"_blank\" href=https://colab.research.google.com/notebooks/data_table.ipynb>data table notebook</a>'\n",
              "            + ' to learn more about interactive tables.';\n",
              "          element.innerHTML = '';\n",
              "          dataTable['output_type'] = 'display_data';\n",
              "          await google.colab.output.renderOutput(dataTable, element);\n",
              "          const docLink = document.createElement('div');\n",
              "          docLink.innerHTML = docLinkHtml;\n",
              "          element.appendChild(docLink);\n",
              "        }\n",
              "      </script>\n",
              "    </div>\n",
              "  </div>\n",
              "  "
            ]
          },
          "metadata": {},
          "execution_count": 51
        }
      ]
    },
    {
      "cell_type": "code",
      "source": [
        "data = data[['G1', 'G2', 'G3', 'studytime', 'failures', 'absences']]\n",
        "data"
      ],
      "metadata": {
        "colab": {
          "base_uri": "https://localhost:8080/",
          "height": 423
        },
        "id": "GPMIax7tNhRQ",
        "outputId": "6cc7020f-13cd-4a87-87e0-1298acecda53"
      },
      "execution_count": 52,
      "outputs": [
        {
          "output_type": "execute_result",
          "data": {
            "text/plain": [
              "     G1  G2  G3  studytime  failures  absences\n",
              "0     5   6   6          2         0         6\n",
              "1     5   5   6          2         0         4\n",
              "2     7   8  10          2         3        10\n",
              "3    15  14  15          3         0         2\n",
              "4     6  10  10          2         0         4\n",
              "..   ..  ..  ..        ...       ...       ...\n",
              "390   9   9   9          2         2        11\n",
              "391  14  16  16          1         0         3\n",
              "392  10   8   7          1         3         3\n",
              "393  11  12  10          1         0         0\n",
              "394   8   9   9          1         0         5\n",
              "\n",
              "[395 rows x 6 columns]"
            ],
            "text/html": [
              "\n",
              "  <div id=\"df-88ae968d-a2fa-4154-9c58-4d96c4acbd6c\">\n",
              "    <div class=\"colab-df-container\">\n",
              "      <div>\n",
              "<style scoped>\n",
              "    .dataframe tbody tr th:only-of-type {\n",
              "        vertical-align: middle;\n",
              "    }\n",
              "\n",
              "    .dataframe tbody tr th {\n",
              "        vertical-align: top;\n",
              "    }\n",
              "\n",
              "    .dataframe thead th {\n",
              "        text-align: right;\n",
              "    }\n",
              "</style>\n",
              "<table border=\"1\" class=\"dataframe\">\n",
              "  <thead>\n",
              "    <tr style=\"text-align: right;\">\n",
              "      <th></th>\n",
              "      <th>G1</th>\n",
              "      <th>G2</th>\n",
              "      <th>G3</th>\n",
              "      <th>studytime</th>\n",
              "      <th>failures</th>\n",
              "      <th>absences</th>\n",
              "    </tr>\n",
              "  </thead>\n",
              "  <tbody>\n",
              "    <tr>\n",
              "      <th>0</th>\n",
              "      <td>5</td>\n",
              "      <td>6</td>\n",
              "      <td>6</td>\n",
              "      <td>2</td>\n",
              "      <td>0</td>\n",
              "      <td>6</td>\n",
              "    </tr>\n",
              "    <tr>\n",
              "      <th>1</th>\n",
              "      <td>5</td>\n",
              "      <td>5</td>\n",
              "      <td>6</td>\n",
              "      <td>2</td>\n",
              "      <td>0</td>\n",
              "      <td>4</td>\n",
              "    </tr>\n",
              "    <tr>\n",
              "      <th>2</th>\n",
              "      <td>7</td>\n",
              "      <td>8</td>\n",
              "      <td>10</td>\n",
              "      <td>2</td>\n",
              "      <td>3</td>\n",
              "      <td>10</td>\n",
              "    </tr>\n",
              "    <tr>\n",
              "      <th>3</th>\n",
              "      <td>15</td>\n",
              "      <td>14</td>\n",
              "      <td>15</td>\n",
              "      <td>3</td>\n",
              "      <td>0</td>\n",
              "      <td>2</td>\n",
              "    </tr>\n",
              "    <tr>\n",
              "      <th>4</th>\n",
              "      <td>6</td>\n",
              "      <td>10</td>\n",
              "      <td>10</td>\n",
              "      <td>2</td>\n",
              "      <td>0</td>\n",
              "      <td>4</td>\n",
              "    </tr>\n",
              "    <tr>\n",
              "      <th>...</th>\n",
              "      <td>...</td>\n",
              "      <td>...</td>\n",
              "      <td>...</td>\n",
              "      <td>...</td>\n",
              "      <td>...</td>\n",
              "      <td>...</td>\n",
              "    </tr>\n",
              "    <tr>\n",
              "      <th>390</th>\n",
              "      <td>9</td>\n",
              "      <td>9</td>\n",
              "      <td>9</td>\n",
              "      <td>2</td>\n",
              "      <td>2</td>\n",
              "      <td>11</td>\n",
              "    </tr>\n",
              "    <tr>\n",
              "      <th>391</th>\n",
              "      <td>14</td>\n",
              "      <td>16</td>\n",
              "      <td>16</td>\n",
              "      <td>1</td>\n",
              "      <td>0</td>\n",
              "      <td>3</td>\n",
              "    </tr>\n",
              "    <tr>\n",
              "      <th>392</th>\n",
              "      <td>10</td>\n",
              "      <td>8</td>\n",
              "      <td>7</td>\n",
              "      <td>1</td>\n",
              "      <td>3</td>\n",
              "      <td>3</td>\n",
              "    </tr>\n",
              "    <tr>\n",
              "      <th>393</th>\n",
              "      <td>11</td>\n",
              "      <td>12</td>\n",
              "      <td>10</td>\n",
              "      <td>1</td>\n",
              "      <td>0</td>\n",
              "      <td>0</td>\n",
              "    </tr>\n",
              "    <tr>\n",
              "      <th>394</th>\n",
              "      <td>8</td>\n",
              "      <td>9</td>\n",
              "      <td>9</td>\n",
              "      <td>1</td>\n",
              "      <td>0</td>\n",
              "      <td>5</td>\n",
              "    </tr>\n",
              "  </tbody>\n",
              "</table>\n",
              "<p>395 rows × 6 columns</p>\n",
              "</div>\n",
              "      <button class=\"colab-df-convert\" onclick=\"convertToInteractive('df-88ae968d-a2fa-4154-9c58-4d96c4acbd6c')\"\n",
              "              title=\"Convert this dataframe to an interactive table.\"\n",
              "              style=\"display:none;\">\n",
              "        \n",
              "  <svg xmlns=\"http://www.w3.org/2000/svg\" height=\"24px\"viewBox=\"0 0 24 24\"\n",
              "       width=\"24px\">\n",
              "    <path d=\"M0 0h24v24H0V0z\" fill=\"none\"/>\n",
              "    <path d=\"M18.56 5.44l.94 2.06.94-2.06 2.06-.94-2.06-.94-.94-2.06-.94 2.06-2.06.94zm-11 1L8.5 8.5l.94-2.06 2.06-.94-2.06-.94L8.5 2.5l-.94 2.06-2.06.94zm10 10l.94 2.06.94-2.06 2.06-.94-2.06-.94-.94-2.06-.94 2.06-2.06.94z\"/><path d=\"M17.41 7.96l-1.37-1.37c-.4-.4-.92-.59-1.43-.59-.52 0-1.04.2-1.43.59L10.3 9.45l-7.72 7.72c-.78.78-.78 2.05 0 2.83L4 21.41c.39.39.9.59 1.41.59.51 0 1.02-.2 1.41-.59l7.78-7.78 2.81-2.81c.8-.78.8-2.07 0-2.86zM5.41 20L4 18.59l7.72-7.72 1.47 1.35L5.41 20z\"/>\n",
              "  </svg>\n",
              "      </button>\n",
              "      \n",
              "  <style>\n",
              "    .colab-df-container {\n",
              "      display:flex;\n",
              "      flex-wrap:wrap;\n",
              "      gap: 12px;\n",
              "    }\n",
              "\n",
              "    .colab-df-convert {\n",
              "      background-color: #E8F0FE;\n",
              "      border: none;\n",
              "      border-radius: 50%;\n",
              "      cursor: pointer;\n",
              "      display: none;\n",
              "      fill: #1967D2;\n",
              "      height: 32px;\n",
              "      padding: 0 0 0 0;\n",
              "      width: 32px;\n",
              "    }\n",
              "\n",
              "    .colab-df-convert:hover {\n",
              "      background-color: #E2EBFA;\n",
              "      box-shadow: 0px 1px 2px rgba(60, 64, 67, 0.3), 0px 1px 3px 1px rgba(60, 64, 67, 0.15);\n",
              "      fill: #174EA6;\n",
              "    }\n",
              "\n",
              "    [theme=dark] .colab-df-convert {\n",
              "      background-color: #3B4455;\n",
              "      fill: #D2E3FC;\n",
              "    }\n",
              "\n",
              "    [theme=dark] .colab-df-convert:hover {\n",
              "      background-color: #434B5C;\n",
              "      box-shadow: 0px 1px 3px 1px rgba(0, 0, 0, 0.15);\n",
              "      filter: drop-shadow(0px 1px 2px rgba(0, 0, 0, 0.3));\n",
              "      fill: #FFFFFF;\n",
              "    }\n",
              "  </style>\n",
              "\n",
              "      <script>\n",
              "        const buttonEl =\n",
              "          document.querySelector('#df-88ae968d-a2fa-4154-9c58-4d96c4acbd6c button.colab-df-convert');\n",
              "        buttonEl.style.display =\n",
              "          google.colab.kernel.accessAllowed ? 'block' : 'none';\n",
              "\n",
              "        async function convertToInteractive(key) {\n",
              "          const element = document.querySelector('#df-88ae968d-a2fa-4154-9c58-4d96c4acbd6c');\n",
              "          const dataTable =\n",
              "            await google.colab.kernel.invokeFunction('convertToInteractive',\n",
              "                                                     [key], {});\n",
              "          if (!dataTable) return;\n",
              "\n",
              "          const docLinkHtml = 'Like what you see? Visit the ' +\n",
              "            '<a target=\"_blank\" href=https://colab.research.google.com/notebooks/data_table.ipynb>data table notebook</a>'\n",
              "            + ' to learn more about interactive tables.';\n",
              "          element.innerHTML = '';\n",
              "          dataTable['output_type'] = 'display_data';\n",
              "          await google.colab.output.renderOutput(dataTable, element);\n",
              "          const docLink = document.createElement('div');\n",
              "          docLink.innerHTML = docLinkHtml;\n",
              "          element.appendChild(docLink);\n",
              "        }\n",
              "      </script>\n",
              "    </div>\n",
              "  </div>\n",
              "  "
            ]
          },
          "metadata": {},
          "execution_count": 52
        }
      ]
    },
    {
      "cell_type": "code",
      "source": [
        "predict = 'G3'\n",
        "x = np.array(data.drop('G3', 1))\n",
        "y = np.array(data[predict])"
      ],
      "metadata": {
        "id": "tCIb9gvmOosz",
        "colab": {
          "base_uri": "https://localhost:8080/"
        },
        "outputId": "5d1d8041-94dd-4aed-95e3-4338b30348f0"
      },
      "execution_count": 53,
      "outputs": [
        {
          "output_type": "stream",
          "name": "stderr",
          "text": [
            "<ipython-input-53-27f543beb79f>:2: FutureWarning: In a future version of pandas all arguments of DataFrame.drop except for the argument 'labels' will be keyword-only\n",
            "  x = np.array(data.drop('G3', 1))\n"
          ]
        }
      ]
    },
    {
      "cell_type": "code",
      "source": [
        "x_train, x_test, y_train, y_test = sklearn.model_selection.train_test_split(x, y, test_size = 0.1)"
      ],
      "metadata": {
        "id": "WDHUNiAHQQ8C"
      },
      "execution_count": 54,
      "outputs": []
    },
    {
      "cell_type": "markdown",
      "source": [
        "\n",
        "Train test Split Explaination:<br>\n",
        "```\n",
        "# >>> x_train, x_test, y_train, y_test = train_test_split(x, y)\n",
        ">>> x_train\n",
        "array([[15, 16],\n",
        "       [21, 22],\n",
        "       [11, 12],\n",
        "       [17, 18],\n",
        "       [13, 14],\n",
        "       [ 9, 10],\n",
        "       [ 1,  2],\n",
        "       [ 3,  4],\n",
        "       [19, 20]])\n",
        ">>> x_test\n",
        "array([[ 5,  6],\n",
        "       [ 7,  8],\n",
        "       [23, 24]])\n",
        ">>> y_train\n",
        "array([1, 1, 0, 1, 0, 1, 0, 1, 0])\n",
        ">>> y_test\n",
        "array([1, 0, 0])\n",
        "```\n",
        "Given two sequences, like x and y here, train_test_split() performs the split and returns four sequences (in this case NumPy arrays) in this order:<br>\n",
        "\n",
        "1) x_train: The training part of the first sequence (x)<br>\n",
        "2) x_test: The test part of the first sequence (x)<br>\n",
        "3) y_train: The training part of the second sequence (y)<br>\n",
        "4) y_test: The test part of the second sequence (y)<br>\n"
      ],
      "metadata": {
        "id": "GyHGy2KTzruG"
      }
    },
    {
      "cell_type": "code",
      "source": [
        "linear = linear_model.LinearRegression()\n",
        "linear.fit(x_train, y_train)\n",
        "acc = linear.score(x_test, y_test)\n",
        "print(acc)"
      ],
      "metadata": {
        "colab": {
          "base_uri": "https://localhost:8080/"
        },
        "id": "TJs2NZMnQSPJ",
        "outputId": "2935ff42-1bcd-40c7-cd40-ecb5f7e11ed3"
      },
      "execution_count": 55,
      "outputs": [
        {
          "output_type": "stream",
          "name": "stdout",
          "text": [
            "0.7933263399877011\n"
          ]
        }
      ]
    },
    {
      "cell_type": "code",
      "source": [
        "print(\"Coefficient: \\n\", linear.coef_)\n",
        "print(\"Intercept: \\n\", linear.intercept_)"
      ],
      "metadata": {
        "colab": {
          "base_uri": "https://localhost:8080/"
        },
        "id": "jQg98RUHmKlf",
        "outputId": "977b058a-bd43-46e1-a2f9-9a7265fdad7e"
      },
      "execution_count": 56,
      "outputs": [
        {
          "output_type": "stream",
          "name": "stdout",
          "text": [
            "Coefficient: \n",
            " [ 0.15868903  0.97322042 -0.15461513 -0.33849622  0.03610102]\n",
            "Intercept: \n",
            " -1.5554755561012055\n"
          ]
        }
      ]
    },
    {
      "cell_type": "code",
      "source": [
        "predictions = linear.predict(x_test)\n",
        "\n",
        "print(\"Order: Test Data, Prediction, Actual\")\n",
        "for x in range(len(predictions)):\n",
        "  print(x_test[x], predictions[x], y_test[x])"
      ],
      "metadata": {
        "colab": {
          "base_uri": "https://localhost:8080/"
        },
        "id": "RmM9yaRq075U",
        "outputId": "03316074-6c83-42db-c91d-e5c88116255f"
      },
      "execution_count": 57,
      "outputs": [
        {
          "output_type": "stream",
          "name": "stdout",
          "text": [
            "Order: Test Data, Prediction, Actual\n",
            "[11 13  2  0  2] 12.604941034858584 13\n",
            "[16 16  2  0  2] 16.31804744979656 16\n",
            "[ 6  7  2  1 15] 6.102990328911897 8\n",
            "[14 15  2  0  0] 14.955246938428106 15\n",
            "[ 8 10  1  0  4] 9.43602983859991 10\n",
            "[7 0 2 0 0] -0.753882614464741 0\n",
            "[ 9 10  3  0  0] 9.14108454618493 0\n",
            "[12 13  2  0  0] 12.691428033787755 14\n",
            "[6 8 1 1 0] 6.689310657439002 8\n",
            "[11 11  2  0  2] 10.65850018819568 10\n",
            "[15 13  2  0  9] 13.492404256021912 15\n",
            "[12 12  4  0  1] 11.445078364201482 12\n",
            "[12 12  1  0  2] 11.945024771158154 11\n",
            "[13 13  1  0  0] 13.004732193418777 12\n",
            "[10 10  2  0 17] 10.06810596132215 10\n",
            "[7 7 3 0 6] 6.120651308391785 7\n",
            "[ 8 12  1  0  0] 11.238066625143711 12\n",
            "[8 8 1 1 4] 7.151092775535554 8\n",
            "[10 10  3  2  8] 8.911589262608961 10\n",
            "[8 9 2 0 4] 8.30819428462616 10\n",
            "[ 8 11  2  0  0] 10.110231071169958 11\n",
            "[9 9 2 0 4] 8.466883313614883 10\n",
            "[ 9 11  3  0  2] 10.186506999575935 11\n",
            "[11 14  1  0  6] 13.877180648951443 14\n",
            "[8 9 2 0 2] 8.235992254566606 10\n",
            "[10  9  2  0  0] 8.4811682824845 9\n",
            "[ 6  5  1  3 16] 3.6702731951181633 5\n",
            "[15 15  2  0  2] 15.186137997476385 16\n",
            "[13 13  2  0  0] 12.850117062776478 12\n",
            "[15 15  2  0 10] 15.474946117714596 15\n",
            "[11  0  3  0  0] -0.27374162915214706 0\n",
            "[9 9 1 0 6] 8.693700474316733 10\n",
            "[11 13  2  0  2] 12.604941034858584 14\n",
            "[9 9 2 0 0] 8.322479253495777 10\n",
            "[8 8 2 0 8] 7.479377921413812 6\n",
            "[7 8 2 3 2] 6.088594153042075 9\n",
            "[16 17  3  0  0] 17.064450712426158 17\n",
            "[10 11  2  0  4] 10.57201318926651 9\n",
            "[13 13  2  0  2] 12.92231909283603 13\n",
            "[11 12  2  0 10] 11.920528731765344 13\n"
          ]
        }
      ]
    },
    {
      "cell_type": "code",
      "source": [
        "import matplotlib.pyplot as plt\n",
        "import pickle\n",
        "from matplotlib import style"
      ],
      "metadata": {
        "id": "-8gitKvQQf_2"
      },
      "execution_count": 58,
      "outputs": []
    },
    {
      "cell_type": "markdown",
      "source": [
        "## Saving the Model"
      ],
      "metadata": {
        "id": "wjJ8BkiYS8i-"
      }
    },
    {
      "cell_type": "code",
      "source": [
        "# with open(\"studnet_model.pickel\", \"wb\") as f:\n",
        "#   pickle.dump(linear, f)"
      ],
      "metadata": {
        "id": "V6f34KEDRY41"
      },
      "execution_count": 59,
      "outputs": []
    },
    {
      "cell_type": "code",
      "source": [
        "pick_insert = open('gdrive/My Drive/Machine_Learning/student_model.pickle','wb')\n",
        "pickle.dump(linear, pick_insert)\n",
        "pick_insert.close()"
      ],
      "metadata": {
        "id": "LxjL44gmTyz0"
      },
      "execution_count": 60,
      "outputs": []
    },
    {
      "cell_type": "markdown",
      "source": [
        "## Loading the Model"
      ],
      "metadata": {
        "id": "ZrHePaARTAMY"
      }
    },
    {
      "cell_type": "code",
      "source": [
        "# pickle_in = open(\"student_model.pickel\", \"rb\")\n",
        "# LR_model = pickle.load(pickle_in)"
      ],
      "metadata": {
        "id": "wuqQkpV0UNkG"
      },
      "execution_count": 61,
      "outputs": []
    },
    {
      "cell_type": "code",
      "source": [
        "pick_read = open('gdrive/My Drive/Machine_Learning/student_model.pickle','rb')\n",
        "LR_model = pickle.load(pick_read)\n",
        "pick_read.close()"
      ],
      "metadata": {
        "id": "ddgbTFc5S1ph"
      },
      "execution_count": 62,
      "outputs": []
    },
    {
      "cell_type": "code",
      "source": [
        "# Running the model that is imported from the gdrive\n",
        "predictions = LR_model.predict(x_test)\n",
        "\n",
        "for x in range(len(predictions)):\n",
        "  print(\"Data: \", x_test[x], \"Prediction: \",predictions[x], \"Actual: \", y_test[x])"
      ],
      "metadata": {
        "id": "_Ka0dnOdVuem",
        "colab": {
          "base_uri": "https://localhost:8080/"
        },
        "outputId": "1438674b-6b9e-4ba6-f087-ed48fe33b5a7"
      },
      "execution_count": 63,
      "outputs": [
        {
          "output_type": "stream",
          "name": "stdout",
          "text": [
            "Data:  [11 13  2  0  2] Prediction:  12.604941034858584 Actual:  13\n",
            "Data:  [16 16  2  0  2] Prediction:  16.31804744979656 Actual:  16\n",
            "Data:  [ 6  7  2  1 15] Prediction:  6.102990328911897 Actual:  8\n",
            "Data:  [14 15  2  0  0] Prediction:  14.955246938428106 Actual:  15\n",
            "Data:  [ 8 10  1  0  4] Prediction:  9.43602983859991 Actual:  10\n",
            "Data:  [7 0 2 0 0] Prediction:  -0.753882614464741 Actual:  0\n",
            "Data:  [ 9 10  3  0  0] Prediction:  9.14108454618493 Actual:  0\n",
            "Data:  [12 13  2  0  0] Prediction:  12.691428033787755 Actual:  14\n",
            "Data:  [6 8 1 1 0] Prediction:  6.689310657439002 Actual:  8\n",
            "Data:  [11 11  2  0  2] Prediction:  10.65850018819568 Actual:  10\n",
            "Data:  [15 13  2  0  9] Prediction:  13.492404256021912 Actual:  15\n",
            "Data:  [12 12  4  0  1] Prediction:  11.445078364201482 Actual:  12\n",
            "Data:  [12 12  1  0  2] Prediction:  11.945024771158154 Actual:  11\n",
            "Data:  [13 13  1  0  0] Prediction:  13.004732193418777 Actual:  12\n",
            "Data:  [10 10  2  0 17] Prediction:  10.06810596132215 Actual:  10\n",
            "Data:  [7 7 3 0 6] Prediction:  6.120651308391785 Actual:  7\n",
            "Data:  [ 8 12  1  0  0] Prediction:  11.238066625143711 Actual:  12\n",
            "Data:  [8 8 1 1 4] Prediction:  7.151092775535554 Actual:  8\n",
            "Data:  [10 10  3  2  8] Prediction:  8.911589262608961 Actual:  10\n",
            "Data:  [8 9 2 0 4] Prediction:  8.30819428462616 Actual:  10\n",
            "Data:  [ 8 11  2  0  0] Prediction:  10.110231071169958 Actual:  11\n",
            "Data:  [9 9 2 0 4] Prediction:  8.466883313614883 Actual:  10\n",
            "Data:  [ 9 11  3  0  2] Prediction:  10.186506999575935 Actual:  11\n",
            "Data:  [11 14  1  0  6] Prediction:  13.877180648951443 Actual:  14\n",
            "Data:  [8 9 2 0 2] Prediction:  8.235992254566606 Actual:  10\n",
            "Data:  [10  9  2  0  0] Prediction:  8.4811682824845 Actual:  9\n",
            "Data:  [ 6  5  1  3 16] Prediction:  3.6702731951181633 Actual:  5\n",
            "Data:  [15 15  2  0  2] Prediction:  15.186137997476385 Actual:  16\n",
            "Data:  [13 13  2  0  0] Prediction:  12.850117062776478 Actual:  12\n",
            "Data:  [15 15  2  0 10] Prediction:  15.474946117714596 Actual:  15\n",
            "Data:  [11  0  3  0  0] Prediction:  -0.27374162915214706 Actual:  0\n",
            "Data:  [9 9 1 0 6] Prediction:  8.693700474316733 Actual:  10\n",
            "Data:  [11 13  2  0  2] Prediction:  12.604941034858584 Actual:  14\n",
            "Data:  [9 9 2 0 0] Prediction:  8.322479253495777 Actual:  10\n",
            "Data:  [8 8 2 0 8] Prediction:  7.479377921413812 Actual:  6\n",
            "Data:  [7 8 2 3 2] Prediction:  6.088594153042075 Actual:  9\n",
            "Data:  [16 17  3  0  0] Prediction:  17.064450712426158 Actual:  17\n",
            "Data:  [10 11  2  0  4] Prediction:  10.57201318926651 Actual:  9\n",
            "Data:  [13 13  2  0  2] Prediction:  12.92231909283603 Actual:  13\n",
            "Data:  [11 12  2  0 10] Prediction:  11.920528731765344 Actual:  13\n"
          ]
        }
      ]
    },
    {
      "cell_type": "markdown",
      "source": [
        "## Ploting"
      ],
      "metadata": {
        "id": "WB0laOJWXBOL"
      }
    },
    {
      "cell_type": "code",
      "source": [
        "p = 'G1'\n",
        "style.use(\"ggplot\")\n",
        "plt.scatter(data[p], data['G3'])\n",
        "plt.xlabel(p)\n",
        "plt.ylabel(\"Final Grade\")\n",
        "plt.show()"
      ],
      "metadata": {
        "colab": {
          "base_uri": "https://localhost:8080/",
          "height": 282
        },
        "id": "AcdJaxfTXJ9o",
        "outputId": "a370f225-6550-4708-d38c-e1c5118fe935"
      },
      "execution_count": 64,
      "outputs": [
        {
          "output_type": "display_data",
          "data": {
            "text/plain": [
              "<Figure size 432x288 with 1 Axes>"
            ],
            "image/png": "[encoded data removed]"
          },
          "metadata": {}
        }
      ]
    },
    {
      "cell_type": "markdown",
      "source": [
        "# **KNN Algorithm**"
      ],
      "metadata": {
        "id": "sZU0L7FgZ3er"
      }
    },
    {
      "cell_type": "markdown",
      "source": [
        "dataset link: https://archive.ics.uci.edu/ml/datasets/car+evaluation"
      ],
      "metadata": {
        "id": "cyqR9SbTaBfR"
      }
    },
    {
      "cell_type": "code",
      "source": [
        "import sklearn\n",
        "from sklearn.utils import shuffle\n",
        "from sklearn.neighbors import KNeighborsClassifier\n",
        "import pandas as pd\n",
        "import numpy as np\n",
        "from sklearn import linear_model, preprocessing"
      ],
      "metadata": {
        "id": "_mIrRaCLcC0e"
      },
      "execution_count": 65,
      "outputs": []
    },
    {
      "cell_type": "code",
      "source": [
        "data = pd.read_csv(\"gdrive/My Drive/Machine_Learning/car.data\")\n",
        "data.head()"
      ],
      "metadata": {
        "colab": {
          "base_uri": "https://localhost:8080/",
          "height": 206
        },
        "id": "dgyMQbOMZ_gN",
        "outputId": "ffc43788-a8c0-4e42-cdfe-9ee9a4976121"
      },
      "execution_count": 66,
      "outputs": [
        {
          "output_type": "execute_result",
          "data": {
            "text/plain": [
              "  buying  maint door persons lug_boot safety  class\n",
              "0  vhigh  vhigh    2       2    small    low  unacc\n",
              "1  vhigh  vhigh    2       2    small    med  unacc\n",
              "2  vhigh  vhigh    2       2    small   high  unacc\n",
              "3  vhigh  vhigh    2       2      med    low  unacc\n",
              "4  vhigh  vhigh    2       2      med    med  unacc"
            ],
            "text/html": [
              "\n",
              "  <div id=\"df-da7c1a59-f3a4-48ca-8efe-7b37d144d9fe\">\n",
              "    <div class=\"colab-df-container\">\n",
              "      <div>\n",
              "<style scoped>\n",
              "    .dataframe tbody tr th:only-of-type {\n",
              "        vertical-align: middle;\n",
              "    }\n",
              "\n",
              "    .dataframe tbody tr th {\n",
              "        vertical-align: top;\n",
              "    }\n",
              "\n",
              "    .dataframe thead th {\n",
              "        text-align: right;\n",
              "    }\n",
              "</style>\n",
              "<table border=\"1\" class=\"dataframe\">\n",
              "  <thead>\n",
              "    <tr style=\"text-align: right;\">\n",
              "      <th></th>\n",
              "      <th>buying</th>\n",
              "      <th>maint</th>\n",
              "      <th>door</th>\n",
              "      <th>persons</th>\n",
              "      <th>lug_boot</th>\n",
              "      <th>safety</th>\n",
              "      <th>class</th>\n",
              "    </tr>\n",
              "  </thead>\n",
              "  <tbody>\n",
              "    <tr>\n",
              "      <th>0</th>\n",
              "      <td>vhigh</td>\n",
              "      <td>vhigh</td>\n",
              "      <td>2</td>\n",
              "      <td>2</td>\n",
              "      <td>small</td>\n",
              "      <td>low</td>\n",
              "      <td>unacc</td>\n",
              "    </tr>\n",
              "    <tr>\n",
              "      <th>1</th>\n",
              "      <td>vhigh</td>\n",
              "      <td>vhigh</td>\n",
              "      <td>2</td>\n",
              "      <td>2</td>\n",
              "      <td>small</td>\n",
              "      <td>med</td>\n",
              "      <td>unacc</td>\n",
              "    </tr>\n",
              "    <tr>\n",
              "      <th>2</th>\n",
              "      <td>vhigh</td>\n",
              "      <td>vhigh</td>\n",
              "      <td>2</td>\n",
              "      <td>2</td>\n",
              "      <td>small</td>\n",
              "      <td>high</td>\n",
              "      <td>unacc</td>\n",
              "    </tr>\n",
              "    <tr>\n",
              "      <th>3</th>\n",
              "      <td>vhigh</td>\n",
              "      <td>vhigh</td>\n",
              "      <td>2</td>\n",
              "      <td>2</td>\n",
              "      <td>med</td>\n",
              "      <td>low</td>\n",
              "      <td>unacc</td>\n",
              "    </tr>\n",
              "    <tr>\n",
              "      <th>4</th>\n",
              "      <td>vhigh</td>\n",
              "      <td>vhigh</td>\n",
              "      <td>2</td>\n",
              "      <td>2</td>\n",
              "      <td>med</td>\n",
              "      <td>med</td>\n",
              "      <td>unacc</td>\n",
              "    </tr>\n",
              "  </tbody>\n",
              "</table>\n",
              "</div>\n",
              "      <button class=\"colab-df-convert\" onclick=\"convertToInteractive('df-da7c1a59-f3a4-48ca-8efe-7b37d144d9fe')\"\n",
              "              title=\"Convert this dataframe to an interactive table.\"\n",
              "              style=\"display:none;\">\n",
              "        \n",
              "  <svg xmlns=\"http://www.w3.org/2000/svg\" height=\"24px\"viewBox=\"0 0 24 24\"\n",
              "       width=\"24px\">\n",
              "    <path d=\"M0 0h24v24H0V0z\" fill=\"none\"/>\n",
              "    <path d=\"M18.56 5.44l.94 2.06.94-2.06 2.06-.94-2.06-.94-.94-2.06-.94 2.06-2.06.94zm-11 1L8.5 8.5l.94-2.06 2.06-.94-2.06-.94L8.5 2.5l-.94 2.06-2.06.94zm10 10l.94 2.06.94-2.06 2.06-.94-2.06-.94-.94-2.06-.94 2.06-2.06.94z\"/><path d=\"M17.41 7.96l-1.37-1.37c-.4-.4-.92-.59-1.43-.59-.52 0-1.04.2-1.43.59L10.3 9.45l-7.72 7.72c-.78.78-.78 2.05 0 2.83L4 21.41c.39.39.9.59 1.41.59.51 0 1.02-.2 1.41-.59l7.78-7.78 2.81-2.81c.8-.78.8-2.07 0-2.86zM5.41 20L4 18.59l7.72-7.72 1.47 1.35L5.41 20z\"/>\n",
              "  </svg>\n",
              "      </button>\n",
              "      \n",
              "  <style>\n",
              "    .colab-df-container {\n",
              "      display:flex;\n",
              "      flex-wrap:wrap;\n",
              "      gap: 12px;\n",
              "    }\n",
              "\n",
              "    .colab-df-convert {\n",
              "      background-color: #E8F0FE;\n",
              "      border: none;\n",
              "      border-radius: 50%;\n",
              "      cursor: pointer;\n",
              "      display: none;\n",
              "      fill: #1967D2;\n",
              "      height: 32px;\n",
              "      padding: 0 0 0 0;\n",
              "      width: 32px;\n",
              "    }\n",
              "\n",
              "    .colab-df-convert:hover {\n",
              "      background-color: #E2EBFA;\n",
              "      box-shadow: 0px 1px 2px rgba(60, 64, 67, 0.3), 0px 1px 3px 1px rgba(60, 64, 67, 0.15);\n",
              "      fill: #174EA6;\n",
              "    }\n",
              "\n",
              "    [theme=dark] .colab-df-convert {\n",
              "      background-color: #3B4455;\n",
              "      fill: #D2E3FC;\n",
              "    }\n",
              "\n",
              "    [theme=dark] .colab-df-convert:hover {\n",
              "      background-color: #434B5C;\n",
              "      box-shadow: 0px 1px 3px 1px rgba(0, 0, 0, 0.15);\n",
              "      filter: drop-shadow(0px 1px 2px rgba(0, 0, 0, 0.3));\n",
              "      fill: #FFFFFF;\n",
              "    }\n",
              "  </style>\n",
              "\n",
              "      <script>\n",
              "        const buttonEl =\n",
              "          document.querySelector('#df-da7c1a59-f3a4-48ca-8efe-7b37d144d9fe button.colab-df-convert');\n",
              "        buttonEl.style.display =\n",
              "          google.colab.kernel.accessAllowed ? 'block' : 'none';\n",
              "\n",
              "        async function convertToInteractive(key) {\n",
              "          const element = document.querySelector('#df-da7c1a59-f3a4-48ca-8efe-7b37d144d9fe');\n",
              "          const dataTable =\n",
              "            await google.colab.kernel.invokeFunction('convertToInteractive',\n",
              "                                                     [key], {});\n",
              "          if (!dataTable) return;\n",
              "\n",
              "          const docLinkHtml = 'Like what you see? Visit the ' +\n",
              "            '<a target=\"_blank\" href=https://colab.research.google.com/notebooks/data_table.ipynb>data table notebook</a>'\n",
              "            + ' to learn more about interactive tables.';\n",
              "          element.innerHTML = '';\n",
              "          dataTable['output_type'] = 'display_data';\n",
              "          await google.colab.output.renderOutput(dataTable, element);\n",
              "          const docLink = document.createElement('div');\n",
              "          docLink.innerHTML = docLinkHtml;\n",
              "          element.appendChild(docLink);\n",
              "        }\n",
              "      </script>\n",
              "    </div>\n",
              "  </div>\n",
              "  "
            ]
          },
          "metadata": {},
          "execution_count": 66
        }
      ]
    },
    {
      "cell_type": "markdown",
      "source": [
        "## Encoding"
      ],
      "metadata": {
        "id": "53TWTsTviviy"
      }
    },
    {
      "cell_type": "code",
      "source": [
        "le = preprocessing.LabelEncoder()\n",
        "\n",
        "buying = le.fit_transform(list(data['buying']))\n",
        "maint = le.fit_transform(list(data['maint']))\n",
        "door = le.fit_transform(list(data['door']))\n",
        "persons = le.fit_transform(list(data['persons']))\n",
        "lug_boot = le.fit_transform(list(data['lug_boot']))\n",
        "safety = le.fit_transform(list(data['safety']))\n",
        "label = le.fit_transform(list(data['class']))"
      ],
      "metadata": {
        "id": "YxliFxb7e6lx"
      },
      "execution_count": 67,
      "outputs": []
    },
    {
      "cell_type": "code",
      "source": [
        "x = list(zip(buying, maint, door, persons, lug_boot, safety))\n",
        "y = list(label)"
      ],
      "metadata": {
        "id": "blsNV27ahInt"
      },
      "execution_count": 68,
      "outputs": []
    },
    {
      "cell_type": "markdown",
      "source": [
        "## Implementation"
      ],
      "metadata": {
        "id": "WCVU5ECf_iZt"
      }
    },
    {
      "cell_type": "code",
      "source": [
        "x_train, x_test, y_train, y_test = sklearn.model_selection.train_test_split(x, y, test_size=0.1)"
      ],
      "metadata": {
        "id": "rrtteADZhPUh"
      },
      "execution_count": 69,
      "outputs": []
    },
    {
      "cell_type": "code",
      "source": [
        "model = KNeighborsClassifier(n_neighbors= 8)\n",
        "model.fit(x_train, y_train)"
      ],
      "metadata": {
        "id": "W4AB8G7TjHqP",
        "colab": {
          "base_uri": "https://localhost:8080/"
        },
        "outputId": "036857c3-be38-48da-ef9b-f96d6baf1d09"
      },
      "execution_count": 70,
      "outputs": [
        {
          "output_type": "execute_result",
          "data": {
            "text/plain": [
              "KNeighborsClassifier(n_neighbors=8)"
            ]
          },
          "metadata": {},
          "execution_count": 70
        }
      ]
    },
    {
      "cell_type": "code",
      "source": [
        "acc = model.score(x_test, y_test)\n",
        "acc"
      ],
      "metadata": {
        "colab": {
          "base_uri": "https://localhost:8080/"
        },
        "id": "q5lO-t9eAFE8",
        "outputId": "d2d86fd3-9e48-4c40-b321-588ee50c03f5"
      },
      "execution_count": 71,
      "outputs": [
        {
          "output_type": "execute_result",
          "data": {
            "text/plain": [
              "0.9075144508670521"
            ]
          },
          "metadata": {},
          "execution_count": 71
        }
      ]
    },
    {
      "cell_type": "code",
      "source": [
        "predicted = model.predict(x_test)\n",
        "# names = ['unacc', 'acc', 'good', 'vgood']\n",
        "\n",
        "for x in range(len(predicted[x_test])):\n",
        "  # print(\"Data: \",x_test[x] ,\"Predicted:\", names[predicted[x]], \"Actual: \", names[y_test[x]])\n",
        "  print(\"Data: \",x_test[x] ,\"Predicted:\", predicted[x], \"Actual: \", y_test[x])\n",
        "  # To get the actual distant\n",
        "  # n = model.kneighbors([x_test[x], 8, True])\n",
        "  # print(\"N: \", n)"
      ],
      "metadata": {
        "colab": {
          "base_uri": "https://localhost:8080/"
        },
        "id": "kCZeggq0ASOb",
        "outputId": "d978c7ee-9d4d-4713-d4bb-3e8f2dc615bb"
      },
      "execution_count": 72,
      "outputs": [
        {
          "output_type": "stream",
          "name": "stdout",
          "text": [
            "Data:  (1, 3, 2, 1, 1, 2) Predicted: 2 Actual:  0\n",
            "Data:  (1, 1, 1, 1, 0, 1) Predicted: 2 Actual:  2\n",
            "Data:  (3, 0, 2, 2, 1, 0) Predicted: 2 Actual:  2\n",
            "Data:  (0, 3, 3, 1, 2, 2) Predicted: 2 Actual:  2\n",
            "Data:  (3, 2, 2, 2, 1, 2) Predicted: 0 Actual:  0\n",
            "Data:  (1, 3, 0, 0, 0, 0) Predicted: 2 Actual:  2\n",
            "Data:  (1, 0, 2, 0, 2, 2) Predicted: 2 Actual:  2\n",
            "Data:  (3, 3, 2, 0, 2, 1) Predicted: 2 Actual:  2\n",
            "Data:  (1, 1, 2, 1, 2, 2) Predicted: 0 Actual:  0\n",
            "Data:  (1, 2, 2, 1, 2, 1) Predicted: 2 Actual:  2\n",
            "Data:  (0, 1, 1, 2, 0, 1) Predicted: 2 Actual:  2\n",
            "Data:  (2, 2, 0, 2, 2, 1) Predicted: 2 Actual:  2\n",
            "Data:  (2, 0, 2, 1, 1, 1) Predicted: 2 Actual:  2\n",
            "Data:  (3, 0, 3, 0, 1, 2) Predicted: 2 Actual:  2\n",
            "Data:  (1, 1, 0, 1, 2, 0) Predicted: 1 Actual:  1\n",
            "Data:  (1, 1, 2, 2, 1, 0) Predicted: 3 Actual:  3\n",
            "Data:  (1, 3, 0, 2, 1, 1) Predicted: 2 Actual:  2\n",
            "Data:  (3, 2, 0, 2, 0, 1) Predicted: 2 Actual:  2\n",
            "Data:  (0, 0, 1, 1, 1, 2) Predicted: 2 Actual:  2\n",
            "Data:  (3, 3, 0, 1, 0, 1) Predicted: 2 Actual:  2\n",
            "Data:  (3, 3, 0, 2, 2, 0) Predicted: 2 Actual:  2\n",
            "Data:  (1, 3, 1, 0, 0, 2) Predicted: 2 Actual:  2\n",
            "Data:  (3, 0, 2, 1, 1, 1) Predicted: 2 Actual:  2\n",
            "Data:  (2, 0, 2, 2, 1, 2) Predicted: 0 Actual:  0\n",
            "Data:  (3, 3, 0, 2, 2, 2) Predicted: 2 Actual:  2\n",
            "Data:  (0, 0, 3, 0, 0, 0) Predicted: 2 Actual:  2\n",
            "Data:  (2, 1, 2, 0, 2, 0) Predicted: 2 Actual:  2\n",
            "Data:  (0, 2, 2, 2, 0, 1) Predicted: 2 Actual:  2\n",
            "Data:  (3, 2, 1, 0, 0, 1) Predicted: 2 Actual:  2\n",
            "Data:  (1, 3, 3, 0, 1, 1) Predicted: 2 Actual:  2\n",
            "Data:  (2, 2, 1, 2, 0, 1) Predicted: 2 Actual:  2\n",
            "Data:  (3, 2, 3, 0, 2, 2) Predicted: 2 Actual:  2\n",
            "Data:  (3, 2, 3, 2, 0, 0) Predicted: 0 Actual:  0\n",
            "Data:  (1, 3, 1, 1, 2, 1) Predicted: 2 Actual:  2\n",
            "Data:  (1, 2, 1, 2, 1, 2) Predicted: 0 Actual:  1\n",
            "Data:  (3, 0, 0, 2, 0, 1) Predicted: 2 Actual:  2\n",
            "Data:  (0, 0, 3, 1, 2, 1) Predicted: 2 Actual:  2\n",
            "Data:  (3, 1, 0, 2, 0, 2) Predicted: 2 Actual:  0\n",
            "Data:  (3, 2, 2, 1, 2, 1) Predicted: 2 Actual:  2\n",
            "Data:  (1, 0, 2, 1, 0, 1) Predicted: 2 Actual:  2\n",
            "Data:  (1, 0, 1, 0, 1, 1) Predicted: 2 Actual:  2\n",
            "Data:  (1, 0, 3, 1, 2, 2) Predicted: 2 Actual:  0\n",
            "Data:  (0, 1, 1, 0, 0, 1) Predicted: 2 Actual:  2\n",
            "Data:  (1, 2, 3, 0, 2, 0) Predicted: 2 Actual:  2\n",
            "Data:  (3, 2, 1, 1, 2, 1) Predicted: 2 Actual:  2\n",
            "Data:  (2, 1, 1, 1, 0, 2) Predicted: 0 Actual:  1\n",
            "Data:  (1, 0, 1, 0, 2, 0) Predicted: 2 Actual:  2\n",
            "Data:  (0, 2, 3, 1, 2, 0) Predicted: 2 Actual:  0\n",
            "Data:  (1, 3, 0, 2, 0, 0) Predicted: 0 Actual:  0\n",
            "Data:  (3, 1, 2, 2, 2, 2) Predicted: 2 Actual:  2\n",
            "Data:  (3, 3, 0, 1, 2, 0) Predicted: 0 Actual:  2\n",
            "Data:  (3, 2, 3, 0, 2, 0) Predicted: 2 Actual:  2\n",
            "Data:  (0, 0, 0, 1, 1, 1) Predicted: 2 Actual:  2\n",
            "Data:  (0, 1, 3, 2, 0, 2) Predicted: 0 Actual:  0\n",
            "Data:  (2, 2, 0, 0, 0, 0) Predicted: 2 Actual:  2\n",
            "Data:  (0, 2, 0, 2, 1, 2) Predicted: 2 Actual:  2\n",
            "Data:  (3, 3, 2, 2, 1, 0) Predicted: 2 Actual:  2\n",
            "Data:  (1, 3, 0, 2, 2, 2) Predicted: 2 Actual:  2\n",
            "Data:  (1, 3, 1, 1, 2, 2) Predicted: 2 Actual:  2\n",
            "Data:  (1, 0, 3, 0, 2, 0) Predicted: 2 Actual:  2\n",
            "Data:  (3, 3, 0, 1, 0, 0) Predicted: 2 Actual:  2\n",
            "Data:  (1, 1, 0, 0, 1, 1) Predicted: 2 Actual:  2\n",
            "Data:  (3, 0, 0, 1, 2, 1) Predicted: 2 Actual:  2\n",
            "Data:  (2, 2, 1, 2, 2, 2) Predicted: 0 Actual:  0\n",
            "Data:  (3, 2, 1, 1, 1, 2) Predicted: 2 Actual:  2\n",
            "Data:  (3, 1, 2, 0, 0, 0) Predicted: 2 Actual:  2\n",
            "Data:  (3, 2, 2, 0, 0, 2) Predicted: 2 Actual:  2\n",
            "Data:  (1, 0, 0, 2, 2, 2) Predicted: 2 Actual:  2\n",
            "Data:  (0, 2, 3, 2, 2, 0) Predicted: 0 Actual:  0\n",
            "Data:  (1, 0, 1, 1, 1, 1) Predicted: 2 Actual:  2\n",
            "Data:  (1, 0, 3, 2, 2, 2) Predicted: 0 Actual:  0\n",
            "Data:  (0, 0, 2, 1, 0, 2) Predicted: 0 Actual:  0\n",
            "Data:  (2, 0, 3, 1, 2, 2) Predicted: 2 Actual:  2\n",
            "Data:  (1, 2, 0, 1, 1, 2) Predicted: 0 Actual:  0\n",
            "Data:  (3, 2, 2, 1, 1, 0) Predicted: 0 Actual:  0\n",
            "Data:  (1, 3, 2, 0, 0, 0) Predicted: 2 Actual:  2\n",
            "Data:  (2, 2, 2, 1, 0, 1) Predicted: 2 Actual:  2\n",
            "Data:  (3, 1, 3, 0, 0, 0) Predicted: 2 Actual:  2\n",
            "Data:  (0, 1, 0, 0, 1, 0) Predicted: 2 Actual:  2\n",
            "Data:  (3, 3, 2, 0, 1, 0) Predicted: 2 Actual:  2\n",
            "Data:  (1, 0, 0, 0, 0, 1) Predicted: 2 Actual:  2\n",
            "Data:  (3, 3, 1, 1, 2, 2) Predicted: 2 Actual:  2\n",
            "Data:  (3, 2, 0, 1, 2, 1) Predicted: 2 Actual:  2\n",
            "Data:  (2, 0, 2, 0, 1, 2) Predicted: 2 Actual:  2\n",
            "Data:  (0, 1, 2, 1, 0, 1) Predicted: 2 Actual:  2\n",
            "Data:  (3, 3, 0, 0, 1, 1) Predicted: 2 Actual:  2\n",
            "Data:  (0, 0, 3, 1, 2, 0) Predicted: 0 Actual:  0\n",
            "Data:  (0, 3, 1, 2, 0, 1) Predicted: 2 Actual:  2\n",
            "Data:  (1, 0, 1, 0, 1, 2) Predicted: 2 Actual:  2\n",
            "Data:  (0, 0, 2, 2, 2, 0) Predicted: 0 Actual:  0\n",
            "Data:  (3, 1, 0, 0, 2, 1) Predicted: 2 Actual:  2\n",
            "Data:  (0, 3, 0, 2, 0, 0) Predicted: 2 Actual:  2\n",
            "Data:  (3, 1, 3, 2, 1, 0) Predicted: 0 Actual:  0\n",
            "Data:  (2, 3, 3, 0, 0, 1) Predicted: 2 Actual:  2\n",
            "Data:  (3, 3, 1, 2, 0, 1) Predicted: 2 Actual:  2\n",
            "Data:  (1, 1, 3, 2, 1, 0) Predicted: 3 Actual:  3\n",
            "Data:  (0, 2, 3, 1, 0, 2) Predicted: 2 Actual:  0\n",
            "Data:  (2, 1, 1, 2, 0, 1) Predicted: 2 Actual:  2\n",
            "Data:  (3, 0, 1, 0, 0, 2) Predicted: 2 Actual:  2\n",
            "Data:  (2, 2, 3, 0, 2, 1) Predicted: 2 Actual:  2\n",
            "Data:  (3, 0, 3, 1, 0, 2) Predicted: 2 Actual:  2\n",
            "Data:  (3, 0, 1, 0, 1, 0) Predicted: 2 Actual:  2\n",
            "Data:  (1, 3, 0, 0, 2, 2) Predicted: 2 Actual:  2\n",
            "Data:  (0, 2, 0, 1, 0, 2) Predicted: 2 Actual:  0\n",
            "Data:  (1, 2, 1, 1, 0, 2) Predicted: 0 Actual:  1\n",
            "Data:  (2, 1, 2, 1, 1, 1) Predicted: 2 Actual:  2\n",
            "Data:  (2, 2, 1, 1, 2, 2) Predicted: 0 Actual:  0\n",
            "Data:  (2, 2, 0, 1, 1, 2) Predicted: 0 Actual:  0\n",
            "Data:  (1, 0, 1, 1, 0, 0) Predicted: 3 Actual:  3\n",
            "Data:  (0, 1, 1, 1, 2, 2) Predicted: 2 Actual:  2\n",
            "Data:  (1, 3, 0, 2, 2, 1) Predicted: 2 Actual:  2\n",
            "Data:  (3, 1, 1, 0, 0, 1) Predicted: 2 Actual:  2\n",
            "Data:  (0, 1, 0, 1, 2, 2) Predicted: 2 Actual:  2\n",
            "Data:  (1, 0, 2, 0, 0, 2) Predicted: 2 Actual:  2\n",
            "Data:  (1, 3, 2, 2, 0, 0) Predicted: 0 Actual:  0\n",
            "Data:  (2, 3, 2, 2, 0, 2) Predicted: 0 Actual:  0\n",
            "Data:  (2, 1, 0, 0, 2, 2) Predicted: 2 Actual:  2\n",
            "Data:  (3, 0, 0, 2, 1, 2) Predicted: 2 Actual:  2\n",
            "Data:  (3, 1, 0, 0, 2, 2) Predicted: 2 Actual:  2\n",
            "Data:  (0, 3, 1, 0, 2, 2) Predicted: 2 Actual:  2\n",
            "Data:  (0, 0, 2, 2, 0, 1) Predicted: 2 Actual:  2\n",
            "Data:  (1, 2, 1, 2, 0, 2) Predicted: 0 Actual:  1\n",
            "Data:  (1, 0, 0, 2, 1, 0) Predicted: 3 Actual:  0\n",
            "Data:  (0, 1, 3, 1, 1, 0) Predicted: 0 Actual:  0\n",
            "Data:  (2, 3, 1, 1, 0, 1) Predicted: 2 Actual:  2\n",
            "Data:  (1, 0, 1, 2, 0, 1) Predicted: 2 Actual:  2\n",
            "Data:  (2, 0, 3, 0, 2, 2) Predicted: 2 Actual:  2\n",
            "Data:  (2, 3, 0, 1, 0, 2) Predicted: 0 Actual:  0\n",
            "Data:  (2, 0, 3, 0, 0, 2) Predicted: 2 Actual:  2\n",
            "Data:  (1, 3, 2, 2, 2, 0) Predicted: 0 Actual:  0\n",
            "Data:  (0, 3, 0, 2, 2, 1) Predicted: 2 Actual:  2\n",
            "Data:  (0, 1, 2, 1, 2, 0) Predicted: 0 Actual:  0\n",
            "Data:  (1, 2, 3, 1, 0, 2) Predicted: 1 Actual:  1\n",
            "Data:  (0, 0, 0, 1, 1, 0) Predicted: 0 Actual:  0\n",
            "Data:  (2, 1, 0, 0, 1, 2) Predicted: 2 Actual:  2\n",
            "Data:  (2, 1, 1, 0, 1, 0) Predicted: 2 Actual:  2\n",
            "Data:  (3, 2, 2, 1, 1, 1) Predicted: 2 Actual:  2\n",
            "Data:  (1, 3, 0, 2, 0, 1) Predicted: 2 Actual:  2\n",
            "Data:  (2, 3, 0, 1, 1, 1) Predicted: 2 Actual:  2\n",
            "Data:  (1, 3, 3, 1, 1, 1) Predicted: 2 Actual:  2\n",
            "Data:  (0, 1, 3, 2, 2, 1) Predicted: 2 Actual:  2\n",
            "Data:  (1, 1, 3, 0, 2, 0) Predicted: 2 Actual:  2\n",
            "Data:  (3, 2, 1, 0, 1, 0) Predicted: 2 Actual:  2\n",
            "Data:  (1, 2, 0, 0, 0, 0) Predicted: 2 Actual:  2\n",
            "Data:  (2, 3, 2, 0, 0, 1) Predicted: 2 Actual:  2\n",
            "Data:  (2, 2, 0, 1, 2, 2) Predicted: 2 Actual:  0\n",
            "Data:  (3, 3, 2, 0, 0, 0) Predicted: 2 Actual:  2\n",
            "Data:  (0, 0, 3, 2, 1, 2) Predicted: 0 Actual:  0\n",
            "Data:  (0, 0, 2, 1, 2, 2) Predicted: 2 Actual:  2\n",
            "Data:  (2, 1, 1, 0, 1, 2) Predicted: 2 Actual:  2\n",
            "Data:  (0, 1, 0, 0, 0, 2) Predicted: 2 Actual:  2\n",
            "Data:  (1, 3, 1, 1, 1, 0) Predicted: 0 Actual:  0\n",
            "Data:  (3, 1, 0, 1, 2, 0) Predicted: 2 Actual:  0\n",
            "Data:  (0, 0, 0, 2, 1, 0) Predicted: 0 Actual:  0\n",
            "Data:  (0, 1, 3, 1, 2, 1) Predicted: 2 Actual:  2\n",
            "Data:  (0, 3, 0, 2, 1, 0) Predicted: 0 Actual:  2\n",
            "Data:  (0, 0, 2, 0, 1, 0) Predicted: 2 Actual:  2\n",
            "Data:  (3, 0, 0, 0, 2, 2) Predicted: 2 Actual:  2\n",
            "Data:  (0, 2, 2, 0, 0, 0) Predicted: 2 Actual:  2\n",
            "Data:  (2, 0, 1, 0, 0, 0) Predicted: 2 Actual:  2\n",
            "Data:  (3, 3, 0, 2, 0, 1) Predicted: 2 Actual:  2\n",
            "Data:  (0, 2, 2, 0, 2, 1) Predicted: 2 Actual:  2\n",
            "Data:  (1, 3, 3, 0, 2, 0) Predicted: 2 Actual:  2\n",
            "Data:  (0, 0, 1, 0, 0, 0) Predicted: 2 Actual:  2\n",
            "Data:  (0, 1, 3, 1, 0, 2) Predicted: 0 Actual:  0\n",
            "Data:  (0, 3, 0, 0, 0, 2) Predicted: 2 Actual:  2\n",
            "Data:  (0, 0, 1, 0, 1, 0) Predicted: 2 Actual:  2\n",
            "Data:  (3, 0, 0, 1, 1, 2) Predicted: 2 Actual:  2\n",
            "Data:  (0, 0, 0, 2, 0, 0) Predicted: 0 Actual:  0\n",
            "Data:  (1, 1, 3, 1, 2, 2) Predicted: 2 Actual:  0\n",
            "Data:  (3, 2, 2, 2, 0, 0) Predicted: 0 Actual:  0\n",
            "Data:  (0, 1, 0, 2, 2, 2) Predicted: 2 Actual:  2\n",
            "Data:  (1, 0, 2, 2, 0, 1) Predicted: 2 Actual:  2\n"
          ]
        }
      ]
    },
    {
      "cell_type": "markdown",
      "source": [
        "# **Support Vector Machine (SVM)**"
      ],
      "metadata": {
        "id": "fgfd1PKEU_b9"
      }
    },
    {
      "cell_type": "markdown",
      "source": [
        "## Basic Idea"
      ],
      "metadata": {
        "id": "IrLCmgbuXCPK"
      }
    },
    {
      "cell_type": "markdown",
      "source": [
        "Source Link: https://www.youtube.com/watch?v=_YPScrckx28"
      ],
      "metadata": {
        "id": "pfm9fxQuXMBc"
      }
    },
    {
      "cell_type": "markdown",
      "source": [
        "![image.png](data:image/png;base64,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)"
      ],
      "metadata": {
        "id": "6exEWfO-W30X"
      }
    },
    {
      "cell_type": "markdown",
      "source": [
        "![image.png](data:image/png;base64,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)"
      ],
      "metadata": {
        "id": "K8ziRmZ6W1nu"
      }
    },
    {
      "cell_type": "markdown",
      "source": [
        "## Implementation"
      ],
      "metadata": {
        "id": "9kLLSJ40XY7n"
      }
    },
    {
      "cell_type": "code",
      "source": [
        "import sklearn\n",
        "from sklearn import datasets\n",
        "from sklearn import svm"
      ],
      "metadata": {
        "id": "ADkhBcCrW0pK"
      },
      "execution_count": 73,
      "outputs": []
    },
    {
      "cell_type": "code",
      "source": [
        "iris = datasets.load_iris()"
      ],
      "metadata": {
        "id": "xYxUmGvSVDc8"
      },
      "execution_count": 74,
      "outputs": []
    },
    {
      "cell_type": "code",
      "source": [
        "print(\"Features: \", iris.feature_names)\n",
        "print(\"Labels: \", iris.target_names)"
      ],
      "metadata": {
        "colab": {
          "base_uri": "https://localhost:8080/"
        },
        "id": "aU8_wTbRY-3D",
        "outputId": "006b81c1-13a2-46a7-dc1b-c8f40e2695a9"
      },
      "execution_count": 75,
      "outputs": [
        {
          "output_type": "stream",
          "name": "stdout",
          "text": [
            "Features:  ['sepal length (cm)', 'sepal width (cm)', 'petal length (cm)', 'petal width (cm)']\n",
            "Labels:  ['setosa' 'versicolor' 'virginica']\n"
          ]
        }
      ]
    },
    {
      "cell_type": "code",
      "source": [
        "x = iris.data\n",
        "y = iris.target\n",
        "\n",
        "x_train, x_test, y_train, y_test = sklearn.model_selection.train_test_split(x, y, test_size= 0.2)"
      ],
      "metadata": {
        "id": "RF88QXcJZg_j"
      },
      "execution_count": 76,
      "outputs": []
    },
    {
      "cell_type": "code",
      "source": [
        "# Printing first ten values\n",
        "print(\"Features\\t\\tLabels\")\n",
        "for i in range(10):\n",
        "  print(x_train[i],'\\t ', y_train[i])"
      ],
      "metadata": {
        "colab": {
          "base_uri": "https://localhost:8080/"
        },
        "id": "bxur6K1ScDr5",
        "outputId": "e404bb32-a247-4621-b135-3a5377902492"
      },
      "execution_count": 77,
      "outputs": [
        {
          "output_type": "stream",
          "name": "stdout",
          "text": [
            "Features\t\tLabels\n",
            "[4.3 3.  1.1 0.1] \t  0\n",
            "[5.5 2.3 4.  1.3] \t  1\n",
            "[4.9 2.4 3.3 1. ] \t  1\n",
            "[6.3 2.3 4.4 1.3] \t  1\n",
            "[7.7 3.  6.1 2.3] \t  2\n",
            "[4.8 3.4 1.9 0.2] \t  0\n",
            "[6.3 2.9 5.6 1.8] \t  2\n",
            "[5.1 3.3 1.7 0.5] \t  0\n",
            "[5.6 2.9 3.6 1.3] \t  1\n",
            "[7.9 3.8 6.4 2. ] \t  2\n"
          ]
        }
      ]
    },
    {
      "cell_type": "code",
      "source": [
        "labels = ['Iris-Setosa', 'Iris-Versicolour', 'Iris-Virginica']"
      ],
      "metadata": {
        "id": "qGqcq4cidJH_"
      },
      "execution_count": 78,
      "outputs": []
    },
    {
      "cell_type": "code",
      "source": [
        "# kernals can be \"rbf\"(default), \"linear\", \"poly\"(takes a long time)\n",
        "# degree\n",
        "# C (soft-mirgin)\n",
        "clf = svm.SVC(kernel=\"linear\", C= 2)\n",
        "clf.fit(x_train, y_train)"
      ],
      "metadata": {
        "colab": {
          "base_uri": "https://localhost:8080/"
        },
        "id": "ekxn3jmrk6pA",
        "outputId": "5f38d843-56ea-4679-96e2-71c9c647d615"
      },
      "execution_count": 79,
      "outputs": [
        {
          "output_type": "execute_result",
          "data": {
            "text/plain": [
              "SVC(C=2, kernel='linear')"
            ]
          },
          "metadata": {},
          "execution_count": 79
        }
      ]
    },
    {
      "cell_type": "code",
      "source": [
        "from sklearn import metrics"
      ],
      "metadata": {
        "id": "_SJMe-tr13xP"
      },
      "execution_count": 80,
      "outputs": []
    },
    {
      "cell_type": "code",
      "source": [
        "pred = clf.predict(x_test)\n",
        "acc = metrics.accuracy_score(y_test, pred)\n",
        "\n",
        "acc"
      ],
      "metadata": {
        "colab": {
          "base_uri": "https://localhost:8080/"
        },
        "id": "JD9DZMDH1fAe",
        "outputId": "d99c49ad-94b9-4ee0-996e-92f340778994"
      },
      "execution_count": 82,
      "outputs": [
        {
          "output_type": "execute_result",
          "data": {
            "text/plain": [
              "1.0"
            ]
          },
          "metadata": {},
          "execution_count": 82
        }
      ]
    }
  ]
}